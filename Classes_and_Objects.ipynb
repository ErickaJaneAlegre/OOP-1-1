{
  "nbformat": 4,
  "nbformat_minor": 0,
  "metadata": {
    "colab": {
      "name": "Classes and Objects.ipynb",
      "provenance": [],
      "authorship_tag": "ABX9TyO9WxPyZ22AjP1iREriqzSW",
      "include_colab_link": true
    },
    "kernelspec": {
      "name": "python3",
      "display_name": "Python 3"
    },
    "language_info": {
      "name": "python"
    }
  },
  "cells": [
    {
      "cell_type": "markdown",
      "metadata": {
        "id": "view-in-github",
        "colab_type": "text"
      },
      "source": [
        "<a href=\"https://colab.research.google.com/github/erickaalgr/OOP-1-1/blob/main/Classes_and_Objects.ipynb\" target=\"_parent\"><img src=\"https://colab.research.google.com/assets/colab-badge.svg\" alt=\"Open In Colab\"/></a>"
      ]
    },
    {
      "cell_type": "markdown",
      "source": [
        "###Application 2- Write a Python program that displays the fullname of a student, student number, age, course, and school. Create a class name OOP_1_1 and create info() method to display the information of the students with full name, student_no, age, course, school as attributes."
      ],
      "metadata": {
        "id": "6MxVZCGTt4gx"
      }
    },
    {
      "cell_type": "code",
      "source": [
        "class OOP_1_1:\n",
        "  def __init__(self, fullname,student_no,age,course,school):\n",
        "    self.fullname = fullname\n",
        "    self.student_no = student_no\n",
        "    self.age = age\n",
        "    self.course = course\n",
        "    self.school = school\n",
        "  \n",
        "  def Info(self):\n",
        "    print(self.fullname,self.student_no,self.age,self.course,self.course)\n",
        "  \n",
        "student = OOP_1_1(\"Ericka Jane Alegre\",202101777,18,\"BS in Computer Engineering\",\"Cavite State University-Main Campus\")\n",
        "student.Info()"
      ],
      "metadata": {
        "colab": {
          "base_uri": "https://localhost:8080/"
        },
        "id": "xhytK1vp2nK7",
        "outputId": "73a90fe6-acbe-45d8-818f-71128b1fecd3"
      },
      "execution_count": 3,
      "outputs": [
        {
          "output_type": "stream",
          "name": "stdout",
          "text": [
            "Ericka Jane Alegre 202101777 18 BS in Computer Engineering BS in Computer Engineering\n"
          ]
        }
      ]
    },
    {
      "cell_type": "code",
      "source": [
        "class OOP_1_1:\n",
        "  def __init__(self, fullname,student_no,age,course,school):\n",
        "    self.fullname = fullname\n",
        "    self.student_no = student_no\n",
        "    self.age = age\n",
        "    self.course = course\n",
        "    self.school = school\n",
        "  \n",
        "  def Info(self):\n",
        "    #print(self.fullname,self.student_no,self.age,self.course,self.course)\n",
        "    print(\"My Name is\", self.fullname)\n",
        "    print(\"My Student Number is\",self.student_no)\n",
        "    print(\"My Age is\", self.age)\n",
        "    print(\"My Course is\", self.course)\n",
        "    print(\"My School is\", self.school)\n",
        "\n",
        "student = OOP_1_1(\"Ericka Jane Alegre\",202101777,18,\"BS in Computer Engineering\",\"Cavite State University-Main Campus\")\n",
        "student.Info()"
      ],
      "metadata": {
        "colab": {
          "base_uri": "https://localhost:8080/"
        },
        "id": "yMBtebYn4rNN",
        "outputId": "dbd4c845-6a24-424e-f912-f2ea51acd8ed"
      },
      "execution_count": 4,
      "outputs": [
        {
          "output_type": "stream",
          "name": "stdout",
          "text": [
            "My Name is Ericka Jane Alegre\n",
            "My Student Number is 202101777\n",
            "My Age is 18\n",
            "My Course is BS in Computer Engineering\n",
            "My School is Cavite State University-Main Campus\n"
          ]
        }
      ]
    },
    {
      "cell_type": "code",
      "source": [
        "class OOP_1_1:\n",
        "  def __init__(self, fullname,student_no,age,course,school):\n",
        "    self.fullname = fullname\n",
        "    self.student_no = student_no\n",
        "    self.age = age\n",
        "    self.course = course\n",
        "    self.school = school\n",
        "  \n",
        "  def Info(self):\n",
        "    print(\"My Name is\"+\" \"+ self.fullname, \"My Student Number is\" self.student_no,self.age,self.course,self.course)\n",
        "    #print(\"My Name is\", self.fullname)\n",
        "    #print(\"My Student Number is\",self.student_no)\n",
        "    #print(\"My Age is\", self.age)\n",
        "    #print(\"My Course is\", self.course)\n",
        "    #print(\"My School is\", self.school)\n",
        "\n",
        "student = OOP_1_1(\"Ericka Jane Alegre\",202101777,18,\"BS in Computer Engineering\",\"Cavite State University-Main Campus\")\n",
        "student.Info()"
      ],
      "metadata": {
        "id": "qtR-SbuB55fc"
      },
      "execution_count": null,
      "outputs": []
    },
    {
      "cell_type": "markdown",
      "source": [
        "###Application 3-Define an Area() method of the class Circle that calculates the circle's area. Define a Perimeter() method of the class which allows you to calculate the perimeter of the circle."
      ],
      "metadata": {
        "id": "vt9DCsp27LRM"
      }
    },
    {
      "cell_type": "code",
      "source": [
        "class Circle:\n",
        "  def __init__(self,pi,radius):\n",
        "    self.pi = pi\n",
        "    self.radius = radius\n",
        "\n",
        "  def Area(self):\n",
        "    print(self.pi*self.radius**2)\n",
        "\n",
        "  def Perimeter(self):\n",
        "    print(2*self.pi*self.radius)\n",
        "  \n",
        "circle = Circle(3.14,15)\n",
        "circle.Area()\n",
        "circle.Perimeter()"
      ],
      "metadata": {
        "colab": {
          "base_uri": "https://localhost:8080/"
        },
        "id": "DXbekUiW7kT_",
        "outputId": "bc961a94-ba37-4360-eba6-a4f9776f6eb1"
      },
      "execution_count": 20,
      "outputs": [
        {
          "output_type": "stream",
          "name": "stdout",
          "text": [
            "706.5\n",
            "94.2\n"
          ]
        }
      ]
    },
    {
      "cell_type": "code",
      "source": [
        "class Circle:\n",
        "  def __init__(self,pi,diameter):\n",
        "    self.pi = pi\n",
        "    self.diameter = diameter\n",
        "\n",
        "  def Area(self):\n",
        "    print(self.pi*(self.diameter/2 )**2)\n",
        "\n",
        "  def Perimeter(self):\n",
        "    print(self.pi*self.diameter)\n",
        "  \n",
        "circle = Circle(3.14,30)\n",
        "circle.Area()\n",
        "circle.Perimeter()"
      ],
      "metadata": {
        "colab": {
          "base_uri": "https://localhost:8080/"
        },
        "id": "KjHl0hj1HGZU",
        "outputId": "29498b9c-3ed3-4458-ed00-452d5ff0ce60"
      },
      "execution_count": 25,
      "outputs": [
        {
          "output_type": "stream",
          "name": "stdout",
          "text": [
            "706.5\n",
            "94.2\n"
          ]
        }
      ]
    }
  ]
}