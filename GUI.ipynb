{
  "nbformat": 4,
  "nbformat_minor": 0,
  "metadata": {
    "colab": {
      "name": "GUI.ipynb",
      "provenance": [],
      "collapsed_sections": [],
      "authorship_tag": "ABX9TyNdoqp5LCybiquZ7PqZS4Sv",
      "include_colab_link": true
    },
    "kernelspec": {
      "name": "python3",
      "display_name": "Python 3"
    },
    "language_info": {
      "name": "python"
    }
  },
  "cells": [
    {
      "cell_type": "markdown",
      "metadata": {
        "id": "view-in-github",
        "colab_type": "text"
      },
      "source": [
        "<a href=\"https://colab.research.google.com/github/erickaalgr/OOP-1-1/blob/main/GUI.ipynb\" target=\"_parent\"><img src=\"https://colab.research.google.com/assets/colab-badge.svg\" alt=\"Open In Colab\"/></a>"
      ]
    },
    {
      "cell_type": "code",
      "source": [
        "#@title Students'Grade in OOP\n",
        "student_name = \"Ericka Jane A. Alegre\" #@param {type:\"string\"}\n",
        "prelim = 96#@param {type:'number'}\n",
        "midterm = 98#@param {type:'number'}\n",
        "final = 98#@param {type:'number'}\n",
        "semestral_grade = round((prelim + midterm+ final)/3,2)\n",
        "\n",
        "print(\"My prelim grade is \" + str(prelim))\n",
        "print(\"My midterm grade is \" + str(midterm))\n",
        "print(\"My final grade is \" + str(final))\n",
        "print(\"My semestral grade is: \" + str(semestral_grade))\n",
        "\n",
        "Gender= \"Female\" #@param [\"Male\",\"Female\"]\n",
        "Birth_Date= '2003-11-24' #@param {type: \"date\"}\n",
        "\n",
        "print(\"My birthdate is: \" + Birth_Date)"
      ],
      "metadata": {
        "colab": {
          "base_uri": "https://localhost:8080/"
        },
        "id": "8g7KvGnkUY_j",
        "outputId": "23fd519b-c9bf-4edd-f994-6c5dcff8481b"
      },
      "execution_count": 14,
      "outputs": [
        {
          "output_type": "stream",
          "name": "stdout",
          "text": [
            "My prelim grade is 96\n",
            "My midterm grade is 98\n",
            "My final grade is 98\n",
            "My semestral grade is: 97.33\n",
            "My birthdate is: 2003-11-24\n"
          ]
        }
      ]
    },
    {
      "cell_type": "markdown",
      "source": [
        "Tkinter module - pycharm"
      ],
      "metadata": {
        "id": "WTj0r5qOYoQK"
      }
    }
  ]
}