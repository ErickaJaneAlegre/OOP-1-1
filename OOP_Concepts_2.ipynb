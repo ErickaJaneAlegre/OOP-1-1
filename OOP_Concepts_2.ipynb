{
  "nbformat": 4,
  "nbformat_minor": 0,
  "metadata": {
    "colab": {
      "name": "OOP Concepts 2.ipynb",
      "provenance": [],
      "collapsed_sections": [],
      "authorship_tag": "ABX9TyO0J2zn5XmBO606VppH844x",
      "include_colab_link": true
    },
    "kernelspec": {
      "name": "python3",
      "display_name": "Python 3"
    },
    "language_info": {
      "name": "python"
    }
  },
  "cells": [
    {
      "cell_type": "markdown",
      "metadata": {
        "id": "view-in-github",
        "colab_type": "text"
      },
      "source": [
        "<a href=\"https://colab.research.google.com/github/erickaalgr/OOP-1-1/blob/main/OOP_Concepts_2.ipynb\" target=\"_parent\"><img src=\"https://colab.research.google.com/assets/colab-badge.svg\" alt=\"Open In Colab\"/></a>"
      ]
    },
    {
      "cell_type": "markdown",
      "source": [
        "###Classes with Multiple Objects"
      ],
      "metadata": {
        "id": "-LzWmpqiMhYm"
      }
    },
    {
      "cell_type": "code",
      "execution_count": null,
      "metadata": {
        "colab": {
          "base_uri": "https://localhost:8080/"
        },
        "id": "0ToomwuGFGOQ",
        "outputId": "6f557d9b-8ae1-4ab2-e93b-0c4ad258f65a"
      },
      "outputs": [
        {
          "output_type": "stream",
          "name": "stdout",
          "text": [
            "Griffon Vulture flies above the sky\n",
            "Common Crane flies above the sky\n",
            "Emu is the national bird of Australia\n"
          ]
        }
      ],
      "source": [
        "class Birds:\n",
        "  def __init__ (self, bird_name):\n",
        "    self.bird_name = bird_name\n",
        "  def flying_birds(self):\n",
        "    print(f\"{self.bird_name} flies above the sky\")\n",
        "  def non_flying_birds(self):\n",
        "    print(f\"{self.bird_name} is the national bird of Australia\")\n",
        "\n",
        "vulture =Birds(\"Griffon Vulture\")\n",
        "crane = Birds(\"Common Crane\")\n",
        "emu = Birds(\"Emu\")\n",
        "\n",
        "vulture.flying_birds()\n",
        "crane.flying_birds()\n",
        "emu.non_flying_birds()"
      ]
    },
    {
      "cell_type": "markdown",
      "source": [
        "###Encapsulation"
      ],
      "metadata": {
        "id": "8HxS6KL-P_CK"
      }
    },
    {
      "cell_type": "code",
      "source": [
        "class foo:\n",
        "  def __init__(self,a,b):\n",
        "    self.a = a\n",
        "    self.b = b\n",
        "\n",
        "  def add(self):\n",
        "    return self.a + self.b \n",
        "\n",
        "object_foo = foo(3,4)\n",
        "object_foo.add()\n",
        "\n",
        "object_foo.a=6\n",
        "object_foo.add()"
      ],
      "metadata": {
        "colab": {
          "base_uri": "https://localhost:8080/"
        },
        "id": "gE9lNw9zLiVo",
        "outputId": "63f2ef82-cfef-4526-9485-24e79ff965f6"
      },
      "execution_count": null,
      "outputs": [
        {
          "output_type": "execute_result",
          "data": {
            "text/plain": [
              "10"
            ]
          },
          "metadata": {},
          "execution_count": 12
        }
      ]
    },
    {
      "cell_type": "markdown",
      "source": [
        "###Encapsulation (mangling with double underscore)"
      ],
      "metadata": {
        "id": "Cy8od446Qu2e"
      }
    },
    {
      "cell_type": "code",
      "source": [
        "class foo:\n",
        "  def __init__(self,a,b):\n",
        "    self.a = a\n",
        "    self.b = b\n",
        "\n",
        "  def add(self):\n",
        "    return self.a + self.b \n",
        "\n",
        "object_foo = foo(3,4)\n",
        "object_foo.add()\n",
        "\n",
        "object_foo.__a = 6\n",
        "object_foo.__b = 7\n",
        "object_foo.add()"
      ],
      "metadata": {
        "colab": {
          "base_uri": "https://localhost:8080/"
        },
        "id": "uLQRkd60Q4Ea",
        "outputId": "5b1d6739-2dbe-46e9-f300-1e9e2c850dc4"
      },
      "execution_count": null,
      "outputs": [
        {
          "output_type": "execute_result",
          "data": {
            "text/plain": [
              "7"
            ]
          },
          "metadata": {},
          "execution_count": 14
        }
      ]
    },
    {
      "cell_type": "code",
      "source": [
        "class Counter:\n",
        "  def __init__(self):\n",
        "    self.current =0\n",
        "  def increment(self):\n",
        "    self.current +=5\n",
        "  def value(self):\n",
        "    return self.current\n",
        "  def reset(self):\n",
        "    self.current =0\n",
        "\n",
        "number=Counter()\n",
        "\n",
        "number.increment()\n",
        "number.increment()\n",
        "number.increment()\n",
        "\n",
        "print(number.value())"
      ],
      "metadata": {
        "colab": {
          "base_uri": "https://localhost:8080/"
        },
        "id": "PEYNcMtIRbHV",
        "outputId": "ac7ecd70-4fa5-403f-c354-785f1e7ac05f"
      },
      "execution_count": null,
      "outputs": [
        {
          "output_type": "stream",
          "name": "stdout",
          "text": [
            "15\n"
          ]
        }
      ]
    },
    {
      "cell_type": "code",
      "source": [
        "class Counter:\n",
        "  def __init__(self):\n",
        "    self.__current =0\n",
        "  def increment(self):\n",
        "    self.__current +=5\n",
        "  def value(self):\n",
        "    return self.__current\n",
        "  def reset(self):\n",
        "    self.__current =0\n",
        "\n",
        "number=Counter()\n",
        "\n",
        "#number.increment()\n",
        "#number.increment()\n",
        "#number.increment()\n",
        "number.__current=1\n",
        "\n",
        "print(number.value())"
      ],
      "metadata": {
        "colab": {
          "base_uri": "https://localhost:8080/"
        },
        "id": "9_oxpvx2ThhP",
        "outputId": "c21d68b3-6e70-4ca2-867d-6b4a588c0840"
      },
      "execution_count": null,
      "outputs": [
        {
          "output_type": "stream",
          "name": "stdout",
          "text": [
            "0\n"
          ]
        }
      ]
    },
    {
      "cell_type": "code",
      "source": [
        "class Counter:\n",
        "  def __init__(self):\n",
        "    self.__current =0\n",
        "  def increment(self):\n",
        "    self.__current +=5\n",
        "  def value(self):\n",
        "    return self.__current\n",
        "  def reset(self):\n",
        "    self.__current =0\n",
        "\n",
        "number=Counter()\n",
        "number.__current=1\n",
        "\n",
        "number.increment()\n",
        "number.increment()\n",
        "number.increment()\n",
        "\n",
        "print(number.value())"
      ],
      "metadata": {
        "colab": {
          "base_uri": "https://localhost:8080/"
        },
        "id": "Icg_tUUOUg-h",
        "outputId": "0aa3ac1c-bcab-493c-8bf7-ceff950d9b5a"
      },
      "execution_count": null,
      "outputs": [
        {
          "output_type": "stream",
          "name": "stdout",
          "text": [
            "15\n"
          ]
        }
      ]
    },
    {
      "cell_type": "markdown",
      "source": [
        "Inheritance"
      ],
      "metadata": {
        "id": "f3ifa0toU-nk"
      }
    },
    {
      "cell_type": "code",
      "source": [
        "class Person:\n",
        "  def __init__(self,firstname,surname):\n",
        "    self.firstname = firstname\n",
        "    self.surname = surname\n",
        "\n",
        "  def fullname(self):\n",
        "    print(self.firstname,self.surname)\n",
        "  \n",
        "person = Person(\"Ericka Jane\" ,\"Alegre\")\n",
        "person.fullname()\n",
        "\n",
        "class Student(Person):\n",
        "  pass\n",
        "\n",
        "person2=Student(\"Ericka\",\"Alegre\")\n",
        "person2.fullname()\n",
        "\n",
        "class Nickname(Person):\n",
        "  pass\n",
        "\n",
        "person3=Nickname(\"Ericka\",\"Jane\")\n",
        "person3.fullname()"
      ],
      "metadata": {
        "colab": {
          "base_uri": "https://localhost:8080/"
        },
        "id": "vNjacXrdVBC6",
        "outputId": "6895c71f-d2e9-4dc0-b215-bd47cc11783f"
      },
      "execution_count": null,
      "outputs": [
        {
          "output_type": "stream",
          "name": "stdout",
          "text": [
            "Ericka Jane Alegre\n",
            "Ericka Alegre\n",
            "Ericka Jane\n"
          ]
        }
      ]
    },
    {
      "cell_type": "markdown",
      "source": [
        "Polymorphism"
      ],
      "metadata": {
        "id": "utSapEKoXeAC"
      }
    },
    {
      "cell_type": "code",
      "source": [
        "class RegularPolygon:\n",
        "  def __init__(self,side):\n",
        "    self.side=side\n",
        "\n",
        "class Square(RegularPolygon):\n",
        "  def area(self):\n",
        "    return self.side*self.side\n",
        "\n",
        "class EquilateralTriangle(RegularPolygon):\n",
        "  def area(self):\n",
        "    return self.side*self.side*0.433\n",
        "\n",
        "obj1=Square(4)\n",
        "print(obj1.area())\n",
        "\n",
        "obj2=EquilateralTriangle(3)\n",
        "print(obj2.area())"
      ],
      "metadata": {
        "colab": {
          "base_uri": "https://localhost:8080/"
        },
        "id": "LoLMsrDeXi2w",
        "outputId": "180e0e00-2ff1-459e-ba91-eea7e428816c"
      },
      "execution_count": null,
      "outputs": [
        {
          "output_type": "stream",
          "name": "stdout",
          "text": [
            "16\n",
            "3.897\n"
          ]
        }
      ]
    },
    {
      "cell_type": "markdown",
      "source": [
        "Application 1"
      ],
      "metadata": {
        "id": "B1Jfzm5FZADz"
      }
    },
    {
      "cell_type": "markdown",
      "source": [
        "1. Create a Python program that displays the name of three students (Student 1, Student 2, and Student 3) and their term grades\n",
        "2. Create a class name Person and attributes - std1, std2, pre,mid,fin\n",
        "3. Compute the average of each term grade using Grade() method\n",
        "Information about student's grades must be hidden from others"
      ],
      "metadata": {
        "id": "mMQmzRgMZHrH"
      }
    },
    {
      "cell_type": "code",
      "source": [
        "class Student_Name:\n",
        "  def __init__(self,name):\n",
        "    self.__name = name\n",
        "  def codename(self):\n",
        "    print(self.__name)\n",
        "\n",
        "class Term_Grade:\n",
        "  def __init__(self, pre, mid, fin):\n",
        "    self.__pre = prelim\n",
        "    self.__mid = midterm\n",
        "    self.__fin = finals\n",
        "  def Average_Grade(self):\n",
        "     print(self.__pre + self.__mid + self.__fin)\n",
        "\n",
        "std1 = Student_Name(\"Student 1\")\n",
        "std1.codename()\n",
        "\n",
        "pre1= int(input(\"Prelim Grade:\"))\n",
        "mid1= int(input(\"Midterm Grade:\"))\n",
        "fin1= int(input(\"Finals Grade:\"))\n",
        "std1_average= (pre1 + mid1 + fin1)/3\n",
        "print(\"Average:\", std1_average)\n",
        "\n",
        "std2= Student_Name(\"Student 2\")\n",
        "std2.codename()\n",
        "\n",
        "pre2= int(input(\"Prelim Grade:\"))\n",
        "mid2= int(input(\"Midterm Grade:\"))\n",
        "fin2= int(input(\"Finals Grade:\"))\n",
        "std2_average= (pre1 + mid1 + fin1)/3\n",
        "print(\"Average:\", std2_average)\n",
        "\n",
        "std3= Student_Name(\"Student 3\")\n",
        "std3.codename()\n",
        "\n",
        "pre3= int(input(\"Prelim Grade:\"))\n",
        "mid3= int(input(\"Midterm Grade:\"))\n",
        "fin3= int(input(\"Finals Grade:\"))\n",
        "std3_average= (pre3 + mid3 + fin3)/3\n",
        "print(\"Average:\", std3_average)"
      ],
      "metadata": {
        "colab": {
          "base_uri": "https://localhost:8080/"
        },
        "id": "v2Y0Foeb8jZh",
        "outputId": "83cb8fd8-3091-45e7-87d6-3d2d9d1217cc"
      },
      "execution_count": 16,
      "outputs": [
        {
          "output_type": "stream",
          "name": "stdout",
          "text": [
            "Student 1\n",
            "Prelim Grade:88\n",
            "Midterm Grade:93\n",
            "Finals Grade:93\n",
            "Average: 91.33333333333333\n",
            "Student 2\n",
            "Prelim Grade:83\n",
            "Midterm Grade:85\n",
            "Finals Grade:90\n",
            "Average: 91.33333333333333\n",
            "Student 3\n",
            "Prelim Grade:75\n",
            "Midterm Grade:79\n",
            "Finals Grade:82\n",
            "Average: 78.66666666666667\n"
          ]
        }
      ]
    }
  ]
}