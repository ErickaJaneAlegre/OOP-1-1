{
  "nbformat": 4,
  "nbformat_minor": 0,
  "metadata": {
    "colab": {
      "name": "Prelim Exam.ipynb",
      "provenance": [],
      "authorship_tag": "ABX9TyP5kyEZIQEUBqwkA9DmcAkm",
      "include_colab_link": true
    },
    "kernelspec": {
      "name": "python3",
      "display_name": "Python 3"
    },
    "language_info": {
      "name": "python"
    }
  },
  "cells": [
    {
      "cell_type": "markdown",
      "metadata": {
        "id": "view-in-github",
        "colab_type": "text"
      },
      "source": [
        "<a href=\"https://colab.research.google.com/github/erickaalgr/OOP-1-1/blob/main/Prelim_Exam.ipynb\" target=\"_parent\"><img src=\"https://colab.research.google.com/assets/colab-badge.svg\" alt=\"Open In Colab\"/></a>"
      ]
    },
    {
      "cell_type": "markdown",
      "source": [
        "Problem 2"
      ],
      "metadata": {
        "id": "y9_-p3MYQ1EV"
      }
    },
    {
      "cell_type": "markdown",
      "source": [
        "1.\tWrite a Python to display your full name, student number, age, and course\n",
        "2.\tCreate a class named Student with attributes: Name, Student_No, Age, School, and Course\n",
        "3.\tCreate an object name Myself and assign an instance for each attribute.\n",
        "4.\tCreate a method Info() using an instantiation of a class.\n",
        "5.\tInsert your GitHub link \"Prelim Exam\" from your repository named \"OOP 1-1\"\n"
      ],
      "metadata": {
        "id": "2_vMrAESQ6Z7"
      }
    },
    {
      "cell_type": "code",
      "source": [
        "class Student:\n",
        "  def __init__(Myself, Name, Student_No, Age, School, Course):\n",
        "    Myself.Name = Name\n",
        "    Myself.Student_No = Student_No\n",
        "    Myself.Age = Age\n",
        "    Myself.School = School\n",
        "    Myself.Course = Course\n",
        "\n",
        "  def Info(Myself):\n",
        "    #print(Myself.Name, Myself.Student_No, Myself.Age, Myself.School Myself.Course)\n",
        "    print(\"My full name is\", f\"{Myself.Name}.\")\n",
        "    print(\"My Student Number is\", f\"{Myself.Student_No}.\")\n",
        "    print(\"My Age is\", f\"{Myself.Age}.\")\n",
        "    print(\"My School is\", f\"{Myself.School}.\")\n",
        "    print(\"My Course is\", f\"{Myself.Course}.\")\n",
        "\n",
        "student= Student(\"Ericka Jane A. Alegre\", 202101777,18,\"Cavite State University-Don Severino Delas Alas Campus\", \"BS in Computer Engineering\")\n",
        "student.Info()"
      ],
      "metadata": {
        "colab": {
          "base_uri": "https://localhost:8080/"
        },
        "id": "hDYuCxE-Q0Ot",
        "outputId": "9127812c-1bf7-4915-99b6-8ec5b827c5a0"
      },
      "execution_count": 13,
      "outputs": [
        {
          "output_type": "stream",
          "name": "stdout",
          "text": [
            "My full name is Ericka Jane A. Alegre.\n",
            "My Student Number is 202101777.\n",
            "My Age is 18.\n",
            "My School is Cavite State University-Don Severino Delas Alas Campus.\n",
            "My Course is BS in Computer Engineering.\n"
          ]
        }
      ]
    }
  ]
}